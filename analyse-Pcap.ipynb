{
 "cells": [
  {
   "cell_type": "markdown",
   "metadata": {},
   "source": [
    "# Benign traffic generator\n",
    "\n",
    "Load DDoS attack traffic .PCAP file and generate .PCAP file with legitimate/normal/benign traffic.\n"
   ]
  },
  {
   "cell_type": "code",
   "execution_count": 16,
   "metadata": {
    "scrolled": true
   },
   "outputs": [],
   "source": [
    "import dpkt\n",
    "import socket\n",
    "from collections import Counter\n",
    "import numpy as np\n",
    "from ipaddress import ip_address"
   ]
  },
  {
   "cell_type": "code",
   "execution_count": 1,
   "metadata": {},
   "outputs": [
    {
     "ename": "FileNotFoundError",
     "evalue": "[Errno 2] No such file or directory: '1_http_packet.pcap'",
     "output_type": "error",
     "traceback": [
      "\u001b[0;31m---------------------------------------------------------------------------\u001b[0m",
      "\u001b[0;31mFileNotFoundError\u001b[0m                         Traceback (most recent call last)",
      "\u001b[0;32m<ipython-input-1-e7215c60fc35>\u001b[0m in \u001b[0;36m<module>\u001b[0;34m()\u001b[0m\n\u001b[1;32m      1\u001b[0m \u001b[0;31m# with open('attack_pcaps/187e8c4e14e803d71c75b2cd102b6fc2.pcap', 'rb') as f:\u001b[0m\u001b[0;34m\u001b[0m\u001b[0;34m\u001b[0m\u001b[0;34m\u001b[0m\u001b[0m\n\u001b[0;32m----> 2\u001b[0;31m \u001b[0minput\u001b[0m \u001b[0;34m=\u001b[0m \u001b[0mopen\u001b[0m\u001b[0;34m(\u001b[0m\u001b[0;34m'1_http_packet.pcap'\u001b[0m\u001b[0;34m,\u001b[0m \u001b[0;34m'rb'\u001b[0m\u001b[0;34m)\u001b[0m\u001b[0;34m\u001b[0m\u001b[0;34m\u001b[0m\u001b[0m\n\u001b[0m\u001b[1;32m      3\u001b[0m \u001b[0mpcap\u001b[0m \u001b[0;34m=\u001b[0m \u001b[0mdpkt\u001b[0m\u001b[0;34m.\u001b[0m\u001b[0mpcap\u001b[0m\u001b[0;34m.\u001b[0m\u001b[0mReader\u001b[0m\u001b[0;34m(\u001b[0m\u001b[0minput\u001b[0m\u001b[0;34m)\u001b[0m\u001b[0;34m\u001b[0m\u001b[0;34m\u001b[0m\u001b[0m\n\u001b[1;32m      4\u001b[0m \u001b[0;34m\u001b[0m\u001b[0m\n\u001b[1;32m      5\u001b[0m \u001b[0mfileoutput\u001b[0m\u001b[0;34m=\u001b[0m\u001b[0mopen\u001b[0m\u001b[0;34m(\u001b[0m\u001b[0;34m'new.pcap'\u001b[0m\u001b[0;34m,\u001b[0m\u001b[0;34m'wb'\u001b[0m\u001b[0;34m)\u001b[0m\u001b[0;34m\u001b[0m\u001b[0;34m\u001b[0m\u001b[0m\n",
      "\u001b[0;31mFileNotFoundError\u001b[0m: [Errno 2] No such file or directory: '1_http_packet.pcap'"
     ]
    }
   ],
   "source": [
    "# with open('attack_pcaps/187e8c4e14e803d71c75b2cd102b6fc2.pcap', 'rb') as f:\n",
    "input = open('1_http_packet.pcap', 'rb')\n",
    "pcap = dpkt.pcap.Reader(input)\n",
    "\n",
    "fileoutput=open('new.pcap','wb')\n",
    "writer = dpkt.pcap.Writer(fileoutput)\n",
    "\n",
    "src_IPs = {}\n",
    "total_packets = 0\n",
    "\n",
    "for timestamp, buf in pcap:\n",
    "    # Unpack Ethernet frame\n",
    "    eth = dpkt.ethernet.Ethernet(buf)\n",
    "\n",
    "    if not isinstance(eth.data, dpkt.ip.IP):\n",
    "#             print(\"Not an IP packet...\")\n",
    "        continue\n",
    "\n",
    "    total_packets +=1\n",
    "\n",
    "    # Extract IP packet\n",
    "    ip = eth.data\n",
    "#         ip_addr = ip.src\n",
    "    ip.src = ip_address('0.0.0.0').packed\n",
    "    writer.writepkt(buf, timestamp)\n",
    "\n",
    "\n",
    "#         ip_addr = socket.inet_ntoa(ip.src)\n",
    "#         ip_proto = ip.p\n",
    "\n",
    "#         if (ip_proto != 6) and (ip_proto != 17): #It is not TCP or UDP\n",
    "#             continue\n",
    "\n",
    "#         if ip_addr in src_IPs:\n",
    "#             src_IPs[ip_addr] += 1\n",
    "#         else:\n",
    "#             src_IPs[ip_addr] = 1\n",
    "\n",
    "#         proto = ip.data\n",
    "#         srcport = proto.sport\n",
    "#         dstport = proto.dport\n",
    "\n",
    "\n",
    "#     print(src_IPs)\n",
    "#     print(total_packets)\n",
    "print(\"done\")\n"
   ]
  },
  {
   "cell_type": "code",
   "execution_count": null,
   "metadata": {},
   "outputs": [],
   "source": [
    "# with open('attack_pcaps/187e8c4e14e803d71c75b2cd102b6fc2.pcap', 'rb') as f:\n",
    "with open('bigFlows.pcap', 'rb') as f:\n",
    "    pcap = dpkt.pcap.Reader(f)\n",
    "    \n",
    "    src_IPs = {}\n",
    "    total_packets = 0\n",
    "    \n",
    "    \n",
    "    for timestamp, buf in pcap:\n",
    "        # Unpack Ethernet frame\n",
    "        eth = dpkt.ethernet.Ethernet(buf)\n",
    "\n",
    "        if not isinstance(eth.data, dpkt.ip.IP):\n",
    "#             print(\"Not an IP packet...\")\n",
    "            continue\n",
    "        \n",
    "        total_packets +=1\n",
    "        \n",
    "        # Extract IP packet\n",
    "        ip = eth.data\n",
    "        \n",
    "        ip.src\n",
    "\n"
   ]
  },
  {
   "cell_type": "code",
   "execution_count": null,
   "metadata": {},
   "outputs": [],
   "source": [
    "    s = sum(src_IPs.values())\n",
    "    d2 = {k: v/float(s) for k, v in src_IPs.items()}\n",
    "    res = np.random.choice(list(d2.keys()), 10000, p=list(d2.values()))\n",
    "    print(s)"
   ]
  }
 ],
 "metadata": {
  "kernelspec": {
   "display_name": "Python 3",
   "language": "python",
   "name": "python3"
  },
  "language_info": {
   "codemirror_mode": {
    "name": "ipython",
    "version": 3
   },
   "file_extension": ".py",
   "mimetype": "text/x-python",
   "name": "python",
   "nbconvert_exporter": "python",
   "pygments_lexer": "ipython3",
   "version": "3.6.8"
  }
 },
 "nbformat": 4,
 "nbformat_minor": 2
}
